{
 "cells": [
  {
   "cell_type": "markdown",
   "metadata": {},
   "source": [
    "Motivation for optimatization techniques in machine learning\n",
    "https://www.quora.com/In-mathematical-optimization-problems-the-first-derivative-is-often-used-Why-not-the-second-or-higher-order-derivatives\n",
    "\n",
    "Starting with newton's second order optimatization"
   ]
  },
  {
   "cell_type": "code",
   "execution_count": 1,
   "metadata": {},
   "outputs": [],
   "source": [
    "from sympy import *\n",
    "from sympy.parsing import sympy_parser as spp\n",
    "\n",
    "import numpy as np\n",
    "import matplotlib.pyplot as plt\n",
    "\n",
    "init_printing(use_unicode=True)\n",
    "\n",
    "\n",
    "# Plot range\n",
    "plot_from, plot_to, plot_step = -7.0, 7.0, 0.1\n",
    "# Precision for iterative methods\n",
    "target_precision = 0.3\n",
    "\n",
    "m = Matrix(symbols('x1 x2'))\n",
    "\n"
   ]
  },
  {
   "cell_type": "code",
   "execution_count": 2,
   "metadata": {},
   "outputs": [],
   "source": [
    "def dfdx(x, g):\n",
    "    return [float(g[i].subs(m[0], x[0]).subs(m[1], x[1])) for i in range(len(g))]\n"
   ]
  },
  {
   "cell_type": "code",
   "execution_count": 3,
   "metadata": {},
   "outputs": [],
   "source": [
    "def sd(alpha=0.0002):\n",
    "    \n",
    "    #Steepest Descent - 1st order optimization\n",
    "    #return:\n",
    "    \n",
    "    print(\"STEEPEST DESCENT: start\")\n",
    "    # gradient\n",
    "    g = [diff(obj, i) for i in m]\n",
    "    # Initialize xs\n",
    "    xs = [[0.0, 0.0]]\n",
    "    xs[0] = x_start\n",
    "    # Get gradient at start location (df/dx or grad(f))\n",
    "    iter_s = 0\n",
    "    while np.linalg.norm(xs[-1] - x_result) > target_precision:\n",
    "        # print \"STEEPEST DESCENT: distance:\", np.linalg.norm(xs[-1] - x_result)\n",
    "        gs = dfdx(xs[iter_s], g)\n",
    "        # Compute search direction and magnitude (dx)\n",
    "        #  with dx = - grad but no line searching\n",
    "        xs.append(xs[iter_s] - np.dot(alpha, gs))\n",
    "        # print xs[-1]\n",
    "        iter_s += 1\n",
    "        if iter_s > 10000:\n",
    "            break\n",
    "    print(\"STEEPEST DESCENT: result distance:\", np.linalg.norm(xs[-1] - x_result))\n",
    "    xs = np.array(xs)\n",
    "    plt.plot(xs[:, 0], xs[:, 1], 'g-o')\n",
    "\n"
   ]
  },
  {
   "cell_type": "code",
   "execution_count": 4,
   "metadata": {},
   "outputs": [],
   "source": [
    "def nm():\n",
    "    \"\"\"\n",
    "    Newton's method - 2nd order optimization\n",
    "    :return:\n",
    "    \"\"\"\n",
    "    print(\"NEWTON METHOD: start\")\n",
    "    # gradient\n",
    "    g = [diff(obj, i) for i in m]\n",
    "    # Hessian matrix\n",
    "    H = Matrix([[diff(g[j], m[i]) for i in range(len(m))] for j in range(len(g))])\n",
    "    H_inv = H.inv()\n",
    "\n",
    "    xn = [[0, 0]]  # Newton method result global for comparison\n",
    "    xn[0] = x_start\n",
    "\n",
    "    iter_n = 0\n",
    "    while np.linalg.norm(xn[-1] - x_result) > target_precision:\n",
    "        # print \"NEWTON METHOD: distance:\", np.linalg.norm(xn[-1] - x_result)\n",
    "        gn = Matrix(dfdx(xn[iter_n], g))\n",
    "        delta_xn = -H_inv * gn\n",
    "        delta_xn = delta_xn.subs(m[0], xn[iter_n][0]).subs(m[1], xn[iter_n][1])\n",
    "        xn.append(Matrix(xn[iter_n]) + delta_xn)\n",
    "        iter_n += 1\n",
    "    print(\"NEWTON METHOD: result distance:\", np.linalg.norm(xn[-1] - x_result))\n",
    "\n",
    "    xn = np.array(xn)\n",
    "    plt.plot(xn[:, 0], xn[:, 1], 'k-o')"
   ]
  },
  {
   "cell_type": "code",
   "execution_count": 5,
   "metadata": {},
   "outputs": [
    {
     "name": "stdout",
     "output_type": "stream",
     "text": [
      "NEWTON METHOD: start\n"
     ]
    },
    {
     "ename": "ShapeError",
     "evalue": "Matrix size mismatch: (2, 1) + (2,)",
     "output_type": "error",
     "traceback": [
      "\u001b[0;31m---------------------------------------------------------------------------\u001b[0m",
      "\u001b[0;31mShapeError\u001b[0m                                Traceback (most recent call last)",
      "\u001b[0;32m<ipython-input-5-dc5f723d11c6>\u001b[0m in \u001b[0;36m<module>\u001b[0;34m()\u001b[0m\n\u001b[1;32m     28\u001b[0m     \u001b[0mplt\u001b[0m\u001b[0;34m.\u001b[0m\u001b[0mxlabel\u001b[0m\u001b[0;34m(\u001b[0m\u001b[0;34m'x1'\u001b[0m\u001b[0;34m)\u001b[0m\u001b[0;34m\u001b[0m\u001b[0m\n\u001b[1;32m     29\u001b[0m     \u001b[0mplt\u001b[0m\u001b[0;34m.\u001b[0m\u001b[0mylabel\u001b[0m\u001b[0;34m(\u001b[0m\u001b[0;34m'x2'\u001b[0m\u001b[0;34m)\u001b[0m\u001b[0;34m\u001b[0m\u001b[0m\n\u001b[0;32m---> 30\u001b[0;31m     \u001b[0mnm\u001b[0m\u001b[0;34m(\u001b[0m\u001b[0;34m)\u001b[0m\u001b[0;34m\u001b[0m\u001b[0m\n\u001b[0m\u001b[1;32m     31\u001b[0m     \u001b[0msd\u001b[0m\u001b[0;34m(\u001b[0m\u001b[0malpha\u001b[0m\u001b[0;34m=\u001b[0m\u001b[0;36m0.0002\u001b[0m\u001b[0;34m)\u001b[0m\u001b[0;34m\u001b[0m\u001b[0m\n\u001b[1;32m     32\u001b[0m     \u001b[0;31m#plt.show()\u001b[0m\u001b[0;34m\u001b[0m\u001b[0;34m\u001b[0m\u001b[0m\n",
      "\u001b[0;32m<ipython-input-4-f6e8288f8fda>\u001b[0m in \u001b[0;36mnm\u001b[0;34m()\u001b[0m\n\u001b[1;32m     15\u001b[0m \u001b[0;34m\u001b[0m\u001b[0m\n\u001b[1;32m     16\u001b[0m     \u001b[0miter_n\u001b[0m \u001b[0;34m=\u001b[0m \u001b[0;36m0\u001b[0m\u001b[0;34m\u001b[0m\u001b[0m\n\u001b[0;32m---> 17\u001b[0;31m     \u001b[0;32mwhile\u001b[0m \u001b[0mnp\u001b[0m\u001b[0;34m.\u001b[0m\u001b[0mlinalg\u001b[0m\u001b[0;34m.\u001b[0m\u001b[0mnorm\u001b[0m\u001b[0;34m(\u001b[0m\u001b[0mxn\u001b[0m\u001b[0;34m[\u001b[0m\u001b[0;34m-\u001b[0m\u001b[0;36m1\u001b[0m\u001b[0;34m]\u001b[0m \u001b[0;34m-\u001b[0m \u001b[0mx_result\u001b[0m\u001b[0;34m)\u001b[0m \u001b[0;34m>\u001b[0m \u001b[0mtarget_precision\u001b[0m\u001b[0;34m:\u001b[0m\u001b[0;34m\u001b[0m\u001b[0m\n\u001b[0m\u001b[1;32m     18\u001b[0m         \u001b[0;31m# print \"NEWTON METHOD: distance:\", np.linalg.norm(xn[-1] - x_result)\u001b[0m\u001b[0;34m\u001b[0m\u001b[0;34m\u001b[0m\u001b[0m\n\u001b[1;32m     19\u001b[0m         \u001b[0mgn\u001b[0m \u001b[0;34m=\u001b[0m \u001b[0mMatrix\u001b[0m\u001b[0;34m(\u001b[0m\u001b[0mdfdx\u001b[0m\u001b[0;34m(\u001b[0m\u001b[0mxn\u001b[0m\u001b[0;34m[\u001b[0m\u001b[0miter_n\u001b[0m\u001b[0;34m]\u001b[0m\u001b[0;34m,\u001b[0m \u001b[0mg\u001b[0m\u001b[0;34m)\u001b[0m\u001b[0;34m)\u001b[0m\u001b[0;34m\u001b[0m\u001b[0m\n",
      "\u001b[0;32m~/anaconda3/lib/python3.6/site-packages/sympy/core/decorators.py\u001b[0m in \u001b[0;36mbinary_op_wrapper\u001b[0;34m(self, other)\u001b[0m\n\u001b[1;32m    130\u001b[0m                     \u001b[0;32melse\u001b[0m\u001b[0;34m:\u001b[0m\u001b[0;34m\u001b[0m\u001b[0m\n\u001b[1;32m    131\u001b[0m                         \u001b[0;32mreturn\u001b[0m \u001b[0mf\u001b[0m\u001b[0;34m(\u001b[0m\u001b[0mself\u001b[0m\u001b[0;34m)\u001b[0m\u001b[0;34m\u001b[0m\u001b[0m\n\u001b[0;32m--> 132\u001b[0;31m             \u001b[0;32mreturn\u001b[0m \u001b[0mfunc\u001b[0m\u001b[0;34m(\u001b[0m\u001b[0mself\u001b[0m\u001b[0;34m,\u001b[0m \u001b[0mother\u001b[0m\u001b[0;34m)\u001b[0m\u001b[0;34m\u001b[0m\u001b[0m\n\u001b[0m\u001b[1;32m    133\u001b[0m         \u001b[0;32mreturn\u001b[0m \u001b[0mbinary_op_wrapper\u001b[0m\u001b[0;34m\u001b[0m\u001b[0m\n\u001b[1;32m    134\u001b[0m     \u001b[0;32mreturn\u001b[0m \u001b[0mpriority_decorator\u001b[0m\u001b[0;34m\u001b[0m\u001b[0m\n",
      "\u001b[0;32m~/anaconda3/lib/python3.6/site-packages/sympy/matrices/common.py\u001b[0m in \u001b[0;36m__sub__\u001b[0;34m(self, a)\u001b[0m\n\u001b[1;32m   2094\u001b[0m     \u001b[0;34m@\u001b[0m\u001b[0mcall_highest_priority\u001b[0m\u001b[0;34m(\u001b[0m\u001b[0;34m'__rsub__'\u001b[0m\u001b[0;34m)\u001b[0m\u001b[0;34m\u001b[0m\u001b[0m\n\u001b[1;32m   2095\u001b[0m     \u001b[0;32mdef\u001b[0m \u001b[0m__sub__\u001b[0m\u001b[0;34m(\u001b[0m\u001b[0mself\u001b[0m\u001b[0;34m,\u001b[0m \u001b[0ma\u001b[0m\u001b[0;34m)\u001b[0m\u001b[0;34m:\u001b[0m\u001b[0;34m\u001b[0m\u001b[0m\n\u001b[0;32m-> 2096\u001b[0;31m         \u001b[0;32mreturn\u001b[0m \u001b[0mself\u001b[0m \u001b[0;34m+\u001b[0m \u001b[0;34m(\u001b[0m\u001b[0;34m-\u001b[0m\u001b[0ma\u001b[0m\u001b[0;34m)\u001b[0m\u001b[0;34m\u001b[0m\u001b[0m\n\u001b[0m\u001b[1;32m   2097\u001b[0m \u001b[0;34m\u001b[0m\u001b[0m\n\u001b[1;32m   2098\u001b[0m     \u001b[0;34m@\u001b[0m\u001b[0mcall_highest_priority\u001b[0m\u001b[0;34m(\u001b[0m\u001b[0;34m'__rtruediv__'\u001b[0m\u001b[0;34m)\u001b[0m\u001b[0;34m\u001b[0m\u001b[0m\n",
      "\u001b[0;32m~/anaconda3/lib/python3.6/site-packages/sympy/core/decorators.py\u001b[0m in \u001b[0;36mbinary_op_wrapper\u001b[0;34m(self, other)\u001b[0m\n\u001b[1;32m    130\u001b[0m                     \u001b[0;32melse\u001b[0m\u001b[0;34m:\u001b[0m\u001b[0;34m\u001b[0m\u001b[0m\n\u001b[1;32m    131\u001b[0m                         \u001b[0;32mreturn\u001b[0m \u001b[0mf\u001b[0m\u001b[0;34m(\u001b[0m\u001b[0mself\u001b[0m\u001b[0;34m)\u001b[0m\u001b[0;34m\u001b[0m\u001b[0m\n\u001b[0;32m--> 132\u001b[0;31m             \u001b[0;32mreturn\u001b[0m \u001b[0mfunc\u001b[0m\u001b[0;34m(\u001b[0m\u001b[0mself\u001b[0m\u001b[0;34m,\u001b[0m \u001b[0mother\u001b[0m\u001b[0;34m)\u001b[0m\u001b[0;34m\u001b[0m\u001b[0m\n\u001b[0m\u001b[1;32m    133\u001b[0m         \u001b[0;32mreturn\u001b[0m \u001b[0mbinary_op_wrapper\u001b[0m\u001b[0;34m\u001b[0m\u001b[0m\n\u001b[1;32m    134\u001b[0m     \u001b[0;32mreturn\u001b[0m \u001b[0mpriority_decorator\u001b[0m\u001b[0;34m\u001b[0m\u001b[0m\n",
      "\u001b[0;32m~/anaconda3/lib/python3.6/site-packages/sympy/matrices/common.py\u001b[0m in \u001b[0;36m__add__\u001b[0;34m(self, other)\u001b[0m\n\u001b[1;32m   1949\u001b[0m             \u001b[0;32mif\u001b[0m \u001b[0mself\u001b[0m\u001b[0;34m.\u001b[0m\u001b[0mshape\u001b[0m \u001b[0;34m!=\u001b[0m \u001b[0mother\u001b[0m\u001b[0;34m.\u001b[0m\u001b[0mshape\u001b[0m\u001b[0;34m:\u001b[0m\u001b[0;34m\u001b[0m\u001b[0m\n\u001b[1;32m   1950\u001b[0m                 raise ShapeError(\"Matrix size mismatch: %s + %s\" % (\n\u001b[0;32m-> 1951\u001b[0;31m                     self.shape, other.shape))\n\u001b[0m\u001b[1;32m   1952\u001b[0m \u001b[0;34m\u001b[0m\u001b[0m\n\u001b[1;32m   1953\u001b[0m         \u001b[0;31m# honest sympy matrices defer to their class's routine\u001b[0m\u001b[0;34m\u001b[0m\u001b[0;34m\u001b[0m\u001b[0m\n",
      "\u001b[0;31mShapeError\u001b[0m: Matrix size mismatch: (2, 1) + (2,)"
     ]
    },
    {
     "data": {
      "image/png": "[encoded data removed]",
      "text/plain": [
       "<Figure size 432x288 with 2 Axes>"
      ]
     },
     "metadata": {},
     "output_type": "display_data"
    }
   ],
   "source": [
    "if __name__ == '__main__':\n",
    "    ####################\n",
    "    # Quadratic function\n",
    "    ####################\n",
    "    # Start location\n",
    "    x_start = [-4.0, 6.0]\n",
    "\n",
    "    # obj = spp.parse_expr('x1**2 - x2 * x1 - x1 + 4 * x2**2')\n",
    "    # x_result = np.array([16/15, 2/15])\n",
    "    obj = spp.parse_expr('x1**2 - 2 * x1 * x2 + 4 * x2**2')\n",
    "    x_result = np.array([0, 0])\n",
    "\n",
    "    # Design variables at mesh points\n",
    "    i1 = np.arange(plot_from, plot_to, plot_step)\n",
    "    i2 = np.arange(plot_from, plot_to, plot_step)\n",
    "    x1_mesh, x2_mesh = np.meshgrid(i1, i2)\n",
    "    f_str = obj.__str__().replace('x1', 'x1_mesh').replace('x2', 'x2_mesh')\n",
    "    f_mesh = eval(f_str)\n",
    "\n",
    "    # Create a contour plot\n",
    "    plt.figure()\n",
    "\n",
    "    plt.imshow(f_mesh, cmap='Paired', origin='lower',extent=[plot_from - 20, plot_to + 20, plot_from - 20, plot_to + 20])\n",
    "    plt.colorbar()\n",
    "\n",
    "    # Add some text to the plot\n",
    "    plt.title('f(x) = ' + str(obj))\n",
    "    plt.xlabel('x1')\n",
    "    plt.ylabel('x2')\n",
    "    nm()\n",
    "    sd(alpha=0.0002)\n",
    "    #plt.show()\n",
    "    \n",
    "    #####################\n",
    "    # Rosenbrock function\n",
    "    #####################\n",
    "    # Start location\n",
    "    x_start = [-4.0, -5.0]\n",
    "\n",
    "    obj = spp.parse_expr('(1 - x1)**2 + 100 * (x2 - x1**2)**2')\n",
    "    x_result = np.array([1, 1])\n",
    "\n",
    "    # Design variables at mesh points\n",
    "    i1 = np.arange(plot_from, plot_to, plot_step)\n",
    "    i2 = np.arange(plot_from, plot_to, plot_step)\n",
    "    x1_mesh, x2_mesh = np.meshgrid(i1, i2)\n",
    "    f_str = obj.__str__().replace('x1', 'x1_mesh').replace('x2', 'x2_mesh')\n",
    "    f_mesh = eval(f_str)\n",
    "\n",
    "    # Create a contour plot\n",
    "    plt.figure()\n",
    "\n",
    "    plt.imshow(f_mesh, cmap='Paired', origin='lower',extent=[plot_from - 20, plot_to + 20, plot_from - 20, plot_to + 20])\n",
    "    plt.colorbar()\n",
    "\n",
    "    # Add some text to the plot\n",
    "    plt.title('f(x) = ' + str(obj))\n",
    "    plt.xlabel('x1')\n",
    "    plt.ylabel('x2')\n",
    "    nm()\n",
    "    sd(alpha=0.0002)\n",
    "    print(\"showing plot with 0.0002\",plt.show())\n",
    "\n"
   ]
  },
  {
   "cell_type": "code",
   "execution_count": null,
   "metadata": {},
   "outputs": [],
   "source": []
  },
  {
   "cell_type": "code",
   "execution_count": null,
   "metadata": {},
   "outputs": [],
   "source": []
  },
  {
   "cell_type": "code",
   "execution_count": null,
   "metadata": {},
   "outputs": [],
   "source": []
  }
 ],
 "metadata": {
  "kernelspec": {
   "display_name": "Python 3",
   "language": "python",
   "name": "python3"
  },
  "language_info": {
   "codemirror_mode": {
    "name": "ipython",
    "version": 3
   },
   "file_extension": ".py",
   "mimetype": "text/x-python",
   "name": "python",
   "nbconvert_exporter": "python",
   "pygments_lexer": "ipython3",
   "version": "3.6.5"
  }
 },
 "nbformat": 4,
 "nbformat_minor": 2
}
